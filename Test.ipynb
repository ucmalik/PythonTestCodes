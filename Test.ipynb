{
  "nbformat": 4,
  "nbformat_minor": 0,
  "metadata": {
    "colab": {
      "name": "Untitled",
      "version": "0.3.2",
      "provenance": [],
      "collapsed_sections": [],
      "include_colab_link": true
    },
    "kernelspec": {
      "name": "python3",
      "display_name": "Python 3"
    }
  },
  "cells": [
    {
      "cell_type": "markdown",
      "metadata": {
        "id": "view-in-github",
        "colab_type": "text"
      },
      "source": [
        "<a href=\"https://colab.research.google.com/github/ucmalik/PythonTestCodes/blob/master/Test.ipynb\" target=\"_parent\"><img src=\"https://colab.research.google.com/assets/colab-badge.svg\" alt=\"Open In Colab\"/></a>"
      ]
    },
    {
      "metadata": {
        "id": "7d_S46MxbyeD",
        "colab_type": "code",
        "outputId": "d5df510d-0b36-4669-bdf2-7f43e5f1e36a",
        "colab": {
          "base_uri": "https://localhost:8080/",
          "height": 34
        }
      },
      "cell_type": "code",
      "source": [
        "print(\"hello world\")"
      ],
      "execution_count": 0,
      "outputs": [
        {
          "output_type": "stream",
          "text": [
            "hello world\n"
          ],
          "name": "stdout"
        }
      ]
    },
    {
      "metadata": {
        "id": "qA5cuikZb6H0",
        "colab_type": "code",
        "colab": {}
      },
      "cell_type": "code",
      "source": [
        "import numpy as np"
      ],
      "execution_count": 0,
      "outputs": []
    },
    {
      "metadata": {
        "id": "o2TfJmRacusY",
        "colab_type": "code",
        "colab": {}
      },
      "cell_type": "code",
      "source": [
        "a = np.array([[1, 2], [3, 1]])"
      ],
      "execution_count": 0,
      "outputs": []
    },
    {
      "metadata": {
        "id": "3jEv9jy6czRq",
        "colab_type": "code",
        "outputId": "5dfd46ae-54a3-4c0e-fd85-698a653b2246",
        "colab": {
          "base_uri": "https://localhost:8080/",
          "height": 52
        }
      },
      "cell_type": "code",
      "source": [
        "print(a)"
      ],
      "execution_count": 0,
      "outputs": [
        {
          "output_type": "stream",
          "text": [
            "[[1 2]\n",
            " [3 1]]\n"
          ],
          "name": "stdout"
        }
      ]
    },
    {
      "metadata": {
        "id": "jE3wLLOic3Rt",
        "colab_type": "code",
        "outputId": "3934f613-99b8-463e-ae56-29a594ee87e0",
        "colab": {
          "base_uri": "https://localhost:8080/",
          "height": 52
        }
      },
      "cell_type": "code",
      "source": [
        "np.transpose(a)"
      ],
      "execution_count": 0,
      "outputs": [
        {
          "output_type": "execute_result",
          "data": {
            "text/plain": [
              "array([[1, 3],\n",
              "       [2, 1]])"
            ]
          },
          "metadata": {
            "tags": []
          },
          "execution_count": 9
        }
      ]
    },
    {
      "metadata": {
        "id": "JHK21KetpgbH",
        "colab_type": "code",
        "outputId": "7d177943-38d9-4922-b4aa-eb162d4a703b",
        "colab": {
          "base_uri": "https://localhost:8080/",
          "height": 52
        }
      },
      "cell_type": "code",
      "source": [
        "a"
      ],
      "execution_count": 0,
      "outputs": [
        {
          "output_type": "execute_result",
          "data": {
            "text/plain": [
              "array([[1, 2],\n",
              "       [3, 1]])"
            ]
          },
          "metadata": {
            "tags": []
          },
          "execution_count": 10
        }
      ]
    },
    {
      "metadata": {
        "id": "eZazHO-mpkig",
        "colab_type": "code",
        "outputId": "843104af-c6c9-4a72-81d6-7d2532efb2d6",
        "colab": {
          "base_uri": "https://localhost:8080/",
          "height": 167
        }
      },
      "cell_type": "code",
      "source": [
        "a(1)"
      ],
      "execution_count": 0,
      "outputs": [
        {
          "output_type": "error",
          "ename": "TypeError",
          "evalue": "ignored",
          "traceback": [
            "\u001b[0;31m---------------------------------------------------------------------------\u001b[0m",
            "\u001b[0;31mTypeError\u001b[0m                                 Traceback (most recent call last)",
            "\u001b[0;32m<ipython-input-11-5645faaf81f3>\u001b[0m in \u001b[0;36m<module>\u001b[0;34m()\u001b[0m\n\u001b[0;32m----> 1\u001b[0;31m \u001b[0ma\u001b[0m\u001b[0;34m(\u001b[0m\u001b[0;36m1\u001b[0m\u001b[0;34m)\u001b[0m\u001b[0;34m\u001b[0m\u001b[0;34m\u001b[0m\u001b[0m\n\u001b[0m",
            "\u001b[0;31mTypeError\u001b[0m: 'numpy.ndarray' object is not callable"
          ]
        }
      ]
    },
    {
      "metadata": {
        "id": "eSnPoii8vPlJ",
        "colab_type": "code",
        "outputId": "6f96252d-09ae-482e-84e9-df4efb284a3f",
        "colab": {
          "base_uri": "https://localhost:8080/",
          "height": 34
        }
      },
      "cell_type": "code",
      "source": [
        "a[1]"
      ],
      "execution_count": 0,
      "outputs": [
        {
          "output_type": "execute_result",
          "data": {
            "text/plain": [
              "array([3, 1])"
            ]
          },
          "metadata": {
            "tags": []
          },
          "execution_count": 12
        }
      ]
    },
    {
      "metadata": {
        "id": "tsdLzV0tvSWt",
        "colab_type": "code",
        "outputId": "72f5b6a0-e6a2-4403-fc8f-a93ee30d7c26",
        "colab": {
          "base_uri": "https://localhost:8080/",
          "height": 132
        }
      },
      "cell_type": "code",
      "source": [
        " X = np.stack([np.ones(m), X], axis=1)\n",
        "  theta=np.array([0.0, 0.0])\n",
        "  theta  = np.transpose(theta)\n",
        "    h = np.dot(theta,X[0,0:m-1])"
      ],
      "execution_count": 0,
      "outputs": [
        {
          "output_type": "error",
          "ename": "IndentationError",
          "evalue": "ignored",
          "traceback": [
            "\u001b[0;36m  File \u001b[0;32m\"<ipython-input-13-08f66644c4ac>\"\u001b[0;36m, line \u001b[0;32m2\u001b[0m\n\u001b[0;31m    theta=np.array([0.0, 0.0])\u001b[0m\n\u001b[0m    ^\u001b[0m\n\u001b[0;31mIndentationError\u001b[0m\u001b[0;31m:\u001b[0m unexpected indent\n"
          ]
        }
      ]
    },
    {
      "metadata": {
        "id": "2KQ0y5EJynDu",
        "colab_type": "code",
        "outputId": "f246b063-4338-4860-8e4d-afb1743bc3d8",
        "colab": {
          "base_uri": "https://localhost:8080/",
          "height": 34
        }
      },
      "cell_type": "code",
      "source": [
        "m=5\n",
        "X=np.array([1,1,1,0,0])\n",
        "X = np.stack([np.ones(m), X], axis=1)\n",
        "theta=np.array([1,1,1,0.0,0.0])\n",
        "theta  = np.transpose(theta)\n",
        "h = np.dot(theta,X[0:m,0])\n",
        "print(h)"
      ],
      "execution_count": 0,
      "outputs": [
        {
          "output_type": "stream",
          "text": [
            "3.0\n"
          ],
          "name": "stdout"
        }
      ]
    },
    {
      "metadata": {
        "id": "HN0sYmKMyvIQ",
        "colab_type": "code",
        "colab": {}
      },
      "cell_type": "code",
      "source": [
        "L = list(range(10))"
      ],
      "execution_count": 0,
      "outputs": []
    },
    {
      "metadata": {
        "id": "siaPgQOK384L",
        "colab_type": "code",
        "outputId": "a1a80c45-e638-47e7-ab07-28a007cee987",
        "colab": {
          "base_uri": "https://localhost:8080/",
          "height": 34
        }
      },
      "cell_type": "code",
      "source": [
        "print(range(12))"
      ],
      "execution_count": 0,
      "outputs": [
        {
          "output_type": "stream",
          "text": [
            "range(0, 12)\n"
          ],
          "name": "stdout"
        }
      ]
    },
    {
      "metadata": {
        "id": "fz5eIhEy3_Qk",
        "colab_type": "code",
        "outputId": "c28af0e1-30d7-4533-c3cc-3b89d36b085c",
        "colab": {
          "base_uri": "https://localhost:8080/",
          "height": 34
        }
      },
      "cell_type": "code",
      "source": [
        "2**2"
      ],
      "execution_count": 0,
      "outputs": [
        {
          "output_type": "execute_result",
          "data": {
            "text/plain": [
              "4"
            ]
          },
          "metadata": {
            "tags": []
          },
          "execution_count": 2
        }
      ]
    },
    {
      "metadata": {
        "id": "JVN35QzMWIWG",
        "colab_type": "code",
        "colab": {}
      },
      "cell_type": "code",
      "source": [
        "X = np.array([1,2,3,4]) "
      ],
      "execution_count": 0,
      "outputs": []
    },
    {
      "metadata": {
        "id": "PIwi1D6LXXPg",
        "colab_type": "code",
        "outputId": "f809d282-0e84-4c7d-e64f-d1af7f6d286b",
        "colab": {
          "base_uri": "https://localhost:8080/",
          "height": 34
        }
      },
      "cell_type": "code",
      "source": [
        "print(X.size)"
      ],
      "execution_count": 0,
      "outputs": [
        {
          "output_type": "stream",
          "text": [
            "4\n"
          ],
          "name": "stdout"
        }
      ]
    },
    {
      "metadata": {
        "id": "TZv4_DUWXlDR",
        "colab_type": "code",
        "outputId": "27974b55-68a4-4785-d550-6511d2e885c8",
        "colab": {
          "base_uri": "https://localhost:8080/",
          "height": 34
        }
      },
      "cell_type": "code",
      "source": [
        "X[0:4]"
      ],
      "execution_count": 0,
      "outputs": [
        {
          "output_type": "execute_result",
          "data": {
            "text/plain": [
              "array([1, 2, 3, 4])"
            ]
          },
          "metadata": {
            "tags": []
          },
          "execution_count": 15
        }
      ]
    },
    {
      "metadata": {
        "id": "VCwtb4gFYBGP",
        "colab_type": "code",
        "outputId": "325c5576-3c23-4cba-de7a-5162b16faf4e",
        "colab": {
          "base_uri": "https://localhost:8080/",
          "height": 34
        }
      },
      "cell_type": "code",
      "source": [
        "np.amin(X)"
      ],
      "execution_count": 0,
      "outputs": [
        {
          "output_type": "execute_result",
          "data": {
            "text/plain": [
              "1"
            ]
          },
          "metadata": {
            "tags": []
          },
          "execution_count": 7
        }
      ]
    },
    {
      "metadata": {
        "id": "vAL4kuHMNf2i",
        "colab_type": "code",
        "outputId": "9a03a253-35ca-4c3d-cdb1-85441a2451a0",
        "colab": {
          "base_uri": "https://localhost:8080/",
          "height": 34
        }
      },
      "cell_type": "code",
      "source": [
        "np.amax(X)"
      ],
      "execution_count": 0,
      "outputs": [
        {
          "output_type": "execute_result",
          "data": {
            "text/plain": [
              "4"
            ]
          },
          "metadata": {
            "tags": []
          },
          "execution_count": 8
        }
      ]
    },
    {
      "metadata": {
        "id": "eCuqML9UNwwz",
        "colab_type": "code",
        "outputId": "d96d85ce-5f67-4a56-efd7-ee41a76f0047",
        "colab": {
          "base_uri": "https://localhost:8080/",
          "height": 34
        }
      },
      "cell_type": "code",
      "source": [
        " np.mean(X)"
      ],
      "execution_count": 0,
      "outputs": [
        {
          "output_type": "execute_result",
          "data": {
            "text/plain": [
              "2.5"
            ]
          },
          "metadata": {
            "tags": []
          },
          "execution_count": 9
        }
      ]
    },
    {
      "metadata": {
        "id": "rfCXZKWcOYIT",
        "colab_type": "code",
        "outputId": "ea13bdc3-d5bf-4c82-e320-71083673313c",
        "colab": {
          "base_uri": "https://localhost:8080/",
          "height": 34
        }
      },
      "cell_type": "code",
      "source": [
        "np.std(X)"
      ],
      "execution_count": 0,
      "outputs": [
        {
          "output_type": "execute_result",
          "data": {
            "text/plain": [
              "1.118033988749895"
            ]
          },
          "metadata": {
            "tags": []
          },
          "execution_count": 10
        }
      ]
    },
    {
      "metadata": {
        "id": "A3D739cyOsvR",
        "colab_type": "code",
        "outputId": "aca856a8-5169-468b-d1eb-43a13a3de0d4",
        "colab": {
          "base_uri": "https://localhost:8080/",
          "height": 34
        }
      },
      "cell_type": "code",
      "source": [
        "X[:]"
      ],
      "execution_count": 0,
      "outputs": [
        {
          "output_type": "execute_result",
          "data": {
            "text/plain": [
              "array([1, 2, 3, 4])"
            ]
          },
          "metadata": {
            "tags": []
          },
          "execution_count": 11
        }
      ]
    },
    {
      "metadata": {
        "id": "14w_GNaZPaT_",
        "colab_type": "code",
        "outputId": "87d4d056-e71c-4f14-fc62-fe3a8f2db754",
        "colab": {
          "base_uri": "https://localhost:8080/",
          "height": 34
        }
      },
      "cell_type": "code",
      "source": [
        "X[:] - 1"
      ],
      "execution_count": 0,
      "outputs": [
        {
          "output_type": "execute_result",
          "data": {
            "text/plain": [
              "array([0, 1, 2, 3])"
            ]
          },
          "metadata": {
            "tags": []
          },
          "execution_count": 12
        }
      ]
    },
    {
      "metadata": {
        "id": "rVs-7fe0P5nI",
        "colab_type": "code",
        "colab": {}
      },
      "cell_type": "code",
      "source": [
        "X[:] = X[:]+1"
      ],
      "execution_count": 0,
      "outputs": []
    },
    {
      "metadata": {
        "id": "Ajh8xRW_RMre",
        "colab_type": "code",
        "outputId": "e580498f-2ed9-4c7b-a684-359fe4177502",
        "colab": {
          "base_uri": "https://localhost:8080/",
          "height": 34
        }
      },
      "cell_type": "code",
      "source": [
        "print(np.std(a[:,0]))"
      ],
      "execution_count": 0,
      "outputs": [
        {
          "output_type": "stream",
          "text": [
            "1.0\n"
          ],
          "name": "stdout"
        }
      ]
    },
    {
      "metadata": {
        "id": "cp34pMDeRP_V",
        "colab_type": "code",
        "outputId": "901cbb76-263d-48ef-e8ec-ec399d7a0df5",
        "colab": {
          "base_uri": "https://localhost:8080/",
          "height": 34
        }
      },
      "cell_type": "code",
      "source": [
        "print(np.std(a[:,1]))"
      ],
      "execution_count": 0,
      "outputs": [
        {
          "output_type": "stream",
          "text": [
            "0.5\n"
          ],
          "name": "stdout"
        }
      ]
    },
    {
      "metadata": {
        "id": "CoNP0TGgSG-t",
        "colab_type": "code",
        "colab": {}
      },
      "cell_type": "code",
      "source": [
        "s = np.zeros(a.shape[1])"
      ],
      "execution_count": 0,
      "outputs": []
    },
    {
      "metadata": {
        "id": "KSfrGOvcS8YN",
        "colab_type": "code",
        "outputId": "1c2c554d-ab0c-4196-e52e-c6ffa5c20acc",
        "colab": {
          "base_uri": "https://localhost:8080/",
          "height": 34
        }
      },
      "cell_type": "code",
      "source": [
        "print(s)"
      ],
      "execution_count": 0,
      "outputs": [
        {
          "output_type": "stream",
          "text": [
            "[0. 0.]\n"
          ],
          "name": "stdout"
        }
      ]
    },
    {
      "metadata": {
        "id": "PLfJyU-bS-Jz",
        "colab_type": "code",
        "outputId": "e0ec4906-91fe-4d5d-bd20-37127277f7c4",
        "colab": {
          "base_uri": "https://localhost:8080/",
          "height": 34
        }
      },
      "cell_type": "code",
      "source": [
        "s[0]"
      ],
      "execution_count": 0,
      "outputs": [
        {
          "output_type": "execute_result",
          "data": {
            "text/plain": [
              "0.0"
            ]
          },
          "metadata": {
            "tags": []
          },
          "execution_count": 21
        }
      ]
    },
    {
      "metadata": {
        "id": "wCHCCLt3TCmi",
        "colab_type": "code",
        "outputId": "ff5f1a52-0b50-437d-f04a-bf3e2cd151a6",
        "colab": {
          "base_uri": "https://localhost:8080/",
          "height": 167
        }
      },
      "cell_type": "code",
      "source": [
        "s[2]"
      ],
      "execution_count": 0,
      "outputs": [
        {
          "output_type": "error",
          "ename": "IndexError",
          "evalue": "ignored",
          "traceback": [
            "\u001b[0;31m---------------------------------------------------------------------------\u001b[0m",
            "\u001b[0;31mIndexError\u001b[0m                                Traceback (most recent call last)",
            "\u001b[0;32m<ipython-input-23-f70620bf1203>\u001b[0m in \u001b[0;36m<module>\u001b[0;34m()\u001b[0m\n\u001b[0;32m----> 1\u001b[0;31m \u001b[0ms\u001b[0m\u001b[0;34m[\u001b[0m\u001b[0;36m2\u001b[0m\u001b[0;34m]\u001b[0m\u001b[0;34m\u001b[0m\u001b[0;34m\u001b[0m\u001b[0m\n\u001b[0m",
            "\u001b[0;31mIndexError\u001b[0m: index 2 is out of bounds for axis 0 with size 2"
          ]
        }
      ]
    },
    {
      "metadata": {
        "id": "1sxm4jtATD9Z",
        "colab_type": "code",
        "colab": {}
      },
      "cell_type": "code",
      "source": [
        "a = np.array([[1,2,3,4,4],[1,2,3,4,5],[1,2,2,2,1]])"
      ],
      "execution_count": 0,
      "outputs": []
    },
    {
      "metadata": {
        "id": "VL34syrnTauw",
        "colab_type": "code",
        "outputId": "3d213a1f-4513-486b-8698-07b8a15667d0",
        "colab": {
          "base_uri": "https://localhost:8080/",
          "height": 34
        }
      },
      "cell_type": "code",
      "source": [
        "a.shape[1]"
      ],
      "execution_count": 0,
      "outputs": [
        {
          "output_type": "execute_result",
          "data": {
            "text/plain": [
              "5"
            ]
          },
          "metadata": {
            "tags": []
          },
          "execution_count": 27
        }
      ]
    },
    {
      "metadata": {
        "id": "J6Db6C6BTqgd",
        "colab_type": "code",
        "colab": {}
      },
      "cell_type": "code",
      "source": [
        "s = np.zeros(a.shape[1])"
      ],
      "execution_count": 0,
      "outputs": []
    },
    {
      "metadata": {
        "id": "CYlZS4rvTwsE",
        "colab_type": "code",
        "outputId": "9dfa5601-3776-4c65-f972-0e4e05330d89",
        "colab": {
          "base_uri": "https://localhost:8080/",
          "height": 34
        }
      },
      "cell_type": "code",
      "source": [
        "print(s)"
      ],
      "execution_count": 0,
      "outputs": [
        {
          "output_type": "stream",
          "text": [
            "[0. 0. 0. 0. 0.]\n"
          ],
          "name": "stdout"
        }
      ]
    },
    {
      "metadata": {
        "id": "d3hzov0HTyKS",
        "colab_type": "code",
        "outputId": "4cc2f08f-7429-4407-d00a-d4a7655c79c2",
        "colab": {
          "base_uri": "https://localhost:8080/",
          "height": 34
        }
      },
      "cell_type": "code",
      "source": [
        "s[2]"
      ],
      "execution_count": 0,
      "outputs": [
        {
          "output_type": "execute_result",
          "data": {
            "text/plain": [
              "0.0"
            ]
          },
          "metadata": {
            "tags": []
          },
          "execution_count": 30
        }
      ]
    },
    {
      "metadata": {
        "id": "Lweoti4ZTzfe",
        "colab_type": "code",
        "outputId": "83c6ccb0-ce88-4f63-f189-1dec975e862c",
        "colab": {
          "base_uri": "https://localhost:8080/",
          "height": 34
        }
      },
      "cell_type": "code",
      "source": [
        "s[3]"
      ],
      "execution_count": 0,
      "outputs": [
        {
          "output_type": "execute_result",
          "data": {
            "text/plain": [
              "0.0"
            ]
          },
          "metadata": {
            "tags": []
          },
          "execution_count": 31
        }
      ]
    },
    {
      "metadata": {
        "id": "5cAolYY_T0e-",
        "colab_type": "code",
        "outputId": "a3d6c2fa-79aa-47da-cc70-ebefed741231",
        "colab": {
          "base_uri": "https://localhost:8080/",
          "height": 34
        }
      },
      "cell_type": "code",
      "source": [
        "s.size"
      ],
      "execution_count": 0,
      "outputs": [
        {
          "output_type": "execute_result",
          "data": {
            "text/plain": [
              "5"
            ]
          },
          "metadata": {
            "tags": []
          },
          "execution_count": 32
        }
      ]
    },
    {
      "metadata": {
        "id": "4dgrFcuiT2jt",
        "colab_type": "code",
        "outputId": "c666904c-b2de-4ea1-8072-e2cfbe6ced0c",
        "colab": {
          "base_uri": "https://localhost:8080/",
          "height": 34
        }
      },
      "cell_type": "code",
      "source": [
        "sum(a[0,:]+1) #row zero sum it"
      ],
      "execution_count": 0,
      "outputs": [
        {
          "output_type": "execute_result",
          "data": {
            "text/plain": [
              "19"
            ]
          },
          "metadata": {
            "tags": []
          },
          "execution_count": 35
        }
      ]
    },
    {
      "metadata": {
        "id": "YZWVE0ezZDlU",
        "colab_type": "code",
        "colab": {}
      },
      "cell_type": "code",
      "source": [
        "c = 1"
      ],
      "execution_count": 0,
      "outputs": []
    },
    {
      "metadata": {
        "id": "kI_trquosBNq",
        "colab_type": "code",
        "outputId": "8295ea51-54bf-4dbf-b2fe-dfdbdedf0b57",
        "colab": {
          "base_uri": "https://localhost:8080/",
          "height": 132
        }
      },
      "cell_type": "code",
      "source": [
        "c = 1\n",
        "d = 1\n",
        "d/=2\n",
        "print(d)\n",
        "c/=2.0\n",
        "print(c)"
      ],
      "execution_count": 0,
      "outputs": [
        {
          "output_type": "error",
          "ename": "SyntaxError",
          "evalue": "ignored",
          "traceback": [
            "\u001b[0;36m  File \u001b[0;32m\"<ipython-input-46-927910dc5958>\"\u001b[0;36m, line \u001b[0;32m7\u001b[0m\n\u001b[0;31m    c++\u001b[0m\n\u001b[0m       ^\u001b[0m\n\u001b[0;31mSyntaxError\u001b[0m\u001b[0;31m:\u001b[0m invalid syntax\n"
          ]
        }
      ]
    },
    {
      "metadata": {
        "id": "CVY_xMm7sCfL",
        "colab_type": "code",
        "outputId": "2abb7e43-2b9f-436d-84ed-1166ac35fcbf",
        "colab": {
          "base_uri": "https://localhost:8080/",
          "height": 132
        }
      },
      "cell_type": "code",
      "source": [
        "c = 1\n",
        "c++"
      ],
      "execution_count": 0,
      "outputs": [
        {
          "output_type": "error",
          "ename": "SyntaxError",
          "evalue": "ignored",
          "traceback": [
            "\u001b[0;36m  File \u001b[0;32m\"<ipython-input-47-35794a9420af>\"\u001b[0;36m, line \u001b[0;32m2\u001b[0m\n\u001b[0;31m    c++\u001b[0m\n\u001b[0m       ^\u001b[0m\n\u001b[0;31mSyntaxError\u001b[0m\u001b[0;31m:\u001b[0m invalid syntax\n"
          ]
        }
      ]
    },
    {
      "metadata": {
        "id": "TaurKfQLsk8h",
        "colab_type": "code",
        "outputId": "17515aef-3640-4852-ce0c-836a0827260f",
        "colab": {
          "base_uri": "https://localhost:8080/",
          "height": 34
        }
      },
      "cell_type": "code",
      "source": [
        "X[:0]"
      ],
      "execution_count": 0,
      "outputs": [
        {
          "output_type": "execute_result",
          "data": {
            "text/plain": [
              "array([], dtype=int64)"
            ]
          },
          "metadata": {
            "tags": []
          },
          "execution_count": 48
        }
      ]
    },
    {
      "metadata": {
        "id": "oxUBT6RuysGS",
        "colab_type": "code",
        "outputId": "5cbd3b36-8244-4be2-a762-9d2122b57996",
        "colab": {
          "base_uri": "https://localhost:8080/",
          "height": 34
        }
      },
      "cell_type": "code",
      "source": [
        "X[:]"
      ],
      "execution_count": 0,
      "outputs": [
        {
          "output_type": "execute_result",
          "data": {
            "text/plain": [
              "array([2, 3, 4, 5])"
            ]
          },
          "metadata": {
            "tags": []
          },
          "execution_count": 49
        }
      ]
    },
    {
      "metadata": {
        "id": "3j1EU7LLytvt",
        "colab_type": "code",
        "outputId": "97a211ee-40b0-4137-e993-47065853406e",
        "colab": {
          "base_uri": "https://localhost:8080/",
          "height": 34
        }
      },
      "cell_type": "code",
      "source": [
        "a[:,0]"
      ],
      "execution_count": 0,
      "outputs": [
        {
          "output_type": "execute_result",
          "data": {
            "text/plain": [
              "array([1, 1, 1])"
            ]
          },
          "metadata": {
            "tags": []
          },
          "execution_count": 50
        }
      ]
    },
    {
      "metadata": {
        "id": "kJJrXlV5ywt6",
        "colab_type": "code",
        "outputId": "afe088cc-1b33-457e-f3c9-55af24cdb37b",
        "colab": {
          "base_uri": "https://localhost:8080/",
          "height": 34
        }
      },
      "cell_type": "code",
      "source": [
        "a[:,0].size"
      ],
      "execution_count": 0,
      "outputs": [
        {
          "output_type": "execute_result",
          "data": {
            "text/plain": [
              "3"
            ]
          },
          "metadata": {
            "tags": []
          },
          "execution_count": 52
        }
      ]
    },
    {
      "metadata": {
        "id": "Es5PPF59y1un",
        "colab_type": "code",
        "outputId": "30a94639-10fa-4c19-cd1c-3e0304a62cac",
        "colab": {
          "base_uri": "https://localhost:8080/",
          "height": 69
        }
      },
      "cell_type": "code",
      "source": [
        "temp = np.ones((a[:,0].size,a.shape[1]+1))\n",
        "temp[:,1:(a.shape[1]+1)] = a\n",
        "temp[:,:]"
      ],
      "execution_count": 0,
      "outputs": [
        {
          "output_type": "execute_result",
          "data": {
            "text/plain": [
              "array([[1., 1., 2., 3., 4., 4.],\n",
              "       [1., 1., 2., 3., 4., 5.],\n",
              "       [1., 1., 2., 2., 2., 1.]])"
            ]
          },
          "metadata": {
            "tags": []
          },
          "execution_count": 61
        }
      ]
    },
    {
      "metadata": {
        "id": "g7eKDt3h3wjo",
        "colab_type": "text"
      },
      "cell_type": "markdown",
      "source": [
        ""
      ]
    },
    {
      "metadata": {
        "id": "OHHEXvTC2Xv3",
        "colab_type": "code",
        "colab": {}
      },
      "cell_type": "code",
      "source": [
        "   X = np.array([[2104,3,399900],\n",
        "    [1600,3,329900],\n",
        "    [2400,3,369000],\n",
        "    [1416,2,232000],\n",
        "    [3000,4,539900],\n",
        "    [1985,4,299900],\n",
        "    [1534,3,314900],\n",
        "    [1427,3,198999],\n",
        "    [1380,3,212000],\n",
        "    [1494,3,242500]])"
      ],
      "execution_count": 0,
      "outputs": []
    },
    {
      "metadata": {
        "id": "iABfgg1I4lZh",
        "colab_type": "code",
        "colab": {}
      },
      "cell_type": "code",
      "source": [
        "X = np.concatenate([np.ones((X.shape[0], 1)), X], axis=1)"
      ],
      "execution_count": 0,
      "outputs": []
    },
    {
      "metadata": {
        "id": "YcRqcxC55P60",
        "colab_type": "code",
        "outputId": "11c30db2-3296-47ee-f63b-cbe1f53ff403",
        "colab": {
          "base_uri": "https://localhost:8080/",
          "height": 34
        }
      },
      "cell_type": "code",
      "source": [
        "X.shape[0]"
      ],
      "execution_count": 0,
      "outputs": [
        {
          "output_type": "execute_result",
          "data": {
            "text/plain": [
              "10"
            ]
          },
          "metadata": {
            "tags": []
          },
          "execution_count": 68
        }
      ]
    },
    {
      "metadata": {
        "id": "Czlz3m8B5ZbU",
        "colab_type": "code",
        "outputId": "dcfa5ba3-0103-4fdd-f656-ce115a783213",
        "colab": {
          "base_uri": "https://localhost:8080/",
          "height": 191
        }
      },
      "cell_type": "code",
      "source": [
        "X"
      ],
      "execution_count": 0,
      "outputs": [
        {
          "output_type": "execute_result",
          "data": {
            "text/plain": [
              "array([[1.00000e+00, 2.10400e+03, 3.00000e+00, 3.99900e+05],\n",
              "       [1.00000e+00, 1.60000e+03, 3.00000e+00, 3.29900e+05],\n",
              "       [1.00000e+00, 2.40000e+03, 3.00000e+00, 3.69000e+05],\n",
              "       [1.00000e+00, 1.41600e+03, 2.00000e+00, 2.32000e+05],\n",
              "       [1.00000e+00, 3.00000e+03, 4.00000e+00, 5.39900e+05],\n",
              "       [1.00000e+00, 1.98500e+03, 4.00000e+00, 2.99900e+05],\n",
              "       [1.00000e+00, 1.53400e+03, 3.00000e+00, 3.14900e+05],\n",
              "       [1.00000e+00, 1.42700e+03, 3.00000e+00, 1.98999e+05],\n",
              "       [1.00000e+00, 1.38000e+03, 3.00000e+00, 2.12000e+05],\n",
              "       [1.00000e+00, 1.49400e+03, 3.00000e+00, 2.42500e+05]])"
            ]
          },
          "metadata": {
            "tags": []
          },
          "execution_count": 69
        }
      ]
    },
    {
      "metadata": {
        "id": "BRmjwrDU55i8",
        "colab_type": "code",
        "outputId": "00cc9147-c133-430c-8931-1c270f2142b3",
        "colab": {
          "base_uri": "https://localhost:8080/",
          "height": 132
        }
      },
      "cell_type": "code",
      "source": [
        "sigma = np.zeros(X.shape[1])\n",
        "mu = np.zeros(X.shape[1])\n",
        "\n",
        "sigma[[range(X.shape[1])] = np.std(X[:,[range(X.shape[1])]])\n",
        "mu[range(X.shape[1])] = np.mean(X[:, range(X.shape[1])])\n",
        "\n",
        "for i in range(1,X.shape[1]):\n",
        "        X[:,i] = (X[:,i] - mu[i])/sigma[i]"
      ],
      "execution_count": 0,
      "outputs": [
        {
          "output_type": "error",
          "ename": "SyntaxError",
          "evalue": "ignored",
          "traceback": [
            "\u001b[0;36m  File \u001b[0;32m\"<ipython-input-38-302b9697ad0f>\"\u001b[0;36m, line \u001b[0;32m4\u001b[0m\n\u001b[0;31m    sigma[[range(X.shape[1])] = np.std(X[:,[range(X.shape[1])]])\u001b[0m\n\u001b[0m                              ^\u001b[0m\n\u001b[0;31mSyntaxError\u001b[0m\u001b[0;31m:\u001b[0m invalid syntax\n"
          ]
        }
      ]
    },
    {
      "metadata": {
        "id": "ssdMrJ_06e1l",
        "colab_type": "code",
        "outputId": "b5b8bfbc-8a30-446c-bef5-7d79cc81f3c4",
        "colab": {
          "base_uri": "https://localhost:8080/",
          "height": 191
        }
      },
      "cell_type": "code",
      "source": [
        "X"
      ],
      "execution_count": 0,
      "outputs": [
        {
          "output_type": "execute_result",
          "data": {
            "text/plain": [
              "array([[ 1.        , -0.53224604, -0.54680079,  2.2235    ],\n",
              "       [ 1.        , -0.53573752, -0.54680079,  1.73857249],\n",
              "       [ 1.        , -0.53019549, -0.54680079,  2.00943914],\n",
              "       [ 1.        , -0.53701219, -0.54680772,  1.06036674],\n",
              "       [ 1.        , -0.52603897, -0.54679387,  3.19335502],\n",
              "       [ 1.        , -0.53307042, -0.54679387,  1.53074642],\n",
              "       [ 1.        , -0.53619474, -0.54680079,  1.63465946],\n",
              "       [ 1.        , -0.53693598, -0.54680079,  0.83175113],\n",
              "       [ 1.        , -0.53726158, -0.54680079,  0.92181602],\n",
              "       [ 1.        , -0.53647184, -0.54680079,  1.13310586]])"
            ]
          },
          "metadata": {
            "tags": []
          },
          "execution_count": 29
        }
      ]
    },
    {
      "metadata": {
        "id": "pjCwn6Vn6gNS",
        "colab_type": "code",
        "outputId": "2af26848-63ef-421c-e2d5-3d2c769d4339",
        "colab": {
          "base_uri": "https://localhost:8080/",
          "height": 34
        }
      },
      "cell_type": "code",
      "source": [
        "np.mean([1,1])"
      ],
      "execution_count": 0,
      "outputs": [
        {
          "output_type": "execute_result",
          "data": {
            "text/plain": [
              "1.0"
            ]
          },
          "metadata": {
            "tags": []
          },
          "execution_count": 32
        }
      ]
    },
    {
      "metadata": {
        "id": "Y2iODOtj7HU8",
        "colab_type": "code",
        "colab": {}
      },
      "cell_type": "code",
      "source": [
        "sigma = np.zeros(X.shape[1])"
      ],
      "execution_count": 0,
      "outputs": []
    },
    {
      "metadata": {
        "id": "_BKvBYah7Wl-",
        "colab_type": "code",
        "outputId": "b723fbeb-b6c9-4465-eb5a-08c1c43f4208",
        "colab": {
          "base_uri": "https://localhost:8080/",
          "height": 34
        }
      },
      "cell_type": "code",
      "source": [
        "sigma"
      ],
      "execution_count": 0,
      "outputs": [
        {
          "output_type": "execute_result",
          "data": {
            "text/plain": [
              "array([0., 0., 0., 0.])"
            ]
          },
          "metadata": {
            "tags": []
          },
          "execution_count": 40
        }
      ]
    },
    {
      "metadata": {
        "id": "h053p1sm7v1o",
        "colab_type": "code",
        "outputId": "73f32f8a-f86b-42aa-ffa3-675b32f89ecb",
        "colab": {
          "base_uri": "https://localhost:8080/",
          "height": 34
        }
      },
      "cell_type": "code",
      "source": [
        "range(X.shape[1])"
      ],
      "execution_count": 0,
      "outputs": [
        {
          "output_type": "execute_result",
          "data": {
            "text/plain": [
              "range(0, 4)"
            ]
          },
          "metadata": {
            "tags": []
          },
          "execution_count": 41
        }
      ]
    },
    {
      "metadata": {
        "id": "Bk3mPxds7_Ij",
        "colab_type": "code",
        "colab": {}
      },
      "cell_type": "code",
      "source": [
        "sigma[0]=1\n",
        "sigma[0] = np.std(X[:,range(2)])"
      ],
      "execution_count": 0,
      "outputs": []
    },
    {
      "metadata": {
        "id": "PrDBIlGL8OsM",
        "colab_type": "code",
        "outputId": "283174cc-b1bf-4801-8026-da1f33514eab",
        "colab": {
          "base_uri": "https://localhost:8080/",
          "height": 34
        }
      },
      "cell_type": "code",
      "source": [
        "sigma"
      ],
      "execution_count": 0,
      "outputs": [
        {
          "output_type": "execute_result",
          "data": {
            "text/plain": [
              "array([984.42630501,   0.        ,   0.        ,   0.        ])"
            ]
          },
          "metadata": {
            "tags": []
          },
          "execution_count": 49
        }
      ]
    },
    {
      "metadata": {
        "id": "Adhyo34u8P6C",
        "colab_type": "code",
        "outputId": "51546b75-96a8-46d7-b4c7-95e35f044af4",
        "colab": {
          "base_uri": "https://localhost:8080/",
          "height": 34
        }
      },
      "cell_type": "code",
      "source": [
        "sigma[0] = np.mean(X[:,[0,1]])\n",
        "sigma\n",
        "sigma[1] = np.mean(X[:,1])\n",
        "sigma"
      ],
      "execution_count": 0,
      "outputs": [
        {
          "output_type": "execute_result",
          "data": {
            "text/plain": [
              "array([ 917.5, 1834. ,    0. ,    0. ])"
            ]
          },
          "metadata": {
            "tags": []
          },
          "execution_count": 59
        }
      ]
    },
    {
      "metadata": {
        "id": "XPFemU7M8fKg",
        "colab_type": "code",
        "outputId": "f041eee1-1a91-4b62-a949-e51988a224a0",
        "colab": {
          "base_uri": "https://localhost:8080/",
          "height": 34
        }
      },
      "cell_type": "code",
      "source": [
        "2104+1600+2400+1416+3000+1985+1534+1427+1380+1494"
      ],
      "execution_count": 0,
      "outputs": [
        {
          "output_type": "execute_result",
          "data": {
            "text/plain": [
              "18340"
            ]
          },
          "metadata": {
            "tags": []
          },
          "execution_count": 63
        }
      ]
    },
    {
      "metadata": {
        "id": "PXt6-HPL9hdM",
        "colab_type": "code",
        "outputId": "0fd416fa-444e-47bd-d476-d87df0423bbd",
        "colab": {
          "base_uri": "https://localhost:8080/",
          "height": 34
        }
      },
      "cell_type": "code",
      "source": [
        "(1+1+1+1+1+1+1+1+1+1+2104+1600+2400+1416+3000+1985+1534+1427+1380+1494)/20"
      ],
      "execution_count": 0,
      "outputs": [
        {
          "output_type": "execute_result",
          "data": {
            "text/plain": [
              "917.5"
            ]
          },
          "metadata": {
            "tags": []
          },
          "execution_count": 65
        }
      ]
    },
    {
      "metadata": {
        "id": "sC3ryw6C9z81",
        "colab_type": "code",
        "colab": {}
      },
      "cell_type": "code",
      "source": [
        ""
      ],
      "execution_count": 0,
      "outputs": []
    }
  ]
}